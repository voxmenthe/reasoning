{
 "cells": [
  {
   "cell_type": "code",
   "execution_count": 10,
   "metadata": {},
   "outputs": [],
   "source": [
    "#!pip install google-genai"
   ]
  },
  {
   "cell_type": "code",
   "execution_count": 1,
   "metadata": {},
   "outputs": [],
   "source": [
    "import json\n",
    "import numpy as np\n",
    "import pandas as pd\n",
    "import google.generativeai as genai\n",
    "import typing_extensions as typing\n",
    "from creds import all_creds\n",
    "\n",
    "genai.configure(api_key=all_creds['GEMINI_HIMS_API_KEY_mlproj_V1'])"
   ]
  },
  {
   "cell_type": "code",
   "execution_count": 1,
   "metadata": {},
   "outputs": [
    {
     "ename": "NameError",
     "evalue": "name 'genai' is not defined",
     "output_type": "error",
     "traceback": [
      "\u001b[0;31m---------------------------------------------------------------------------\u001b[0m",
      "\u001b[0;31mNameError\u001b[0m                                 Traceback (most recent call last)",
      "Cell \u001b[0;32mIn[1], line 1\u001b[0m\n\u001b[0;32m----> 1\u001b[0m model \u001b[38;5;241m=\u001b[39m \u001b[43mgenai\u001b[49m\u001b[38;5;241m.\u001b[39mGenerativeModel(\u001b[38;5;124m\"\u001b[39m\u001b[38;5;124mgemini-2.0-pro-exp-02-05\u001b[39m\u001b[38;5;124m\"\u001b[39m)\n",
      "\u001b[0;31mNameError\u001b[0m: name 'genai' is not defined"
     ]
    }
   ],
   "source": [
    "model = genai.GenerativeModel(\"gemini-2.0-pro-exp-02-05\")"
   ]
  },
  {
   "cell_type": "code",
   "execution_count": 9,
   "metadata": {},
   "outputs": [
    {
     "name": "stdout",
     "output_type": "stream",
     "text": [
      "I am a large language model, trained by Google.\n",
      "Before this, I said \"I am a large language model, trained by Google.\"\n"
     ]
    }
   ],
   "source": [
    "from google import genai\n",
    "\n",
    "client = genai.Client(api_key=all_creds['GEMINI_HIMS_API_KEY_mlproj_V1'], http_options={'api_version':'v1alpha'})\n",
    "\n",
    "chat = client.aio.chats.create(\n",
    "    model='gemini-2.0-flash-thinking-exp',\n",
    ")\n",
    "response = await chat.send_message('What is your name?')\n",
    "print(response.text)\n",
    "response = await chat.send_message('What did you just say before this?')\n",
    "print(response.text)"
   ]
  },
  {
   "cell_type": "code",
   "execution_count": 11,
   "metadata": {},
   "outputs": [
    {
     "name": "stdout",
     "output_type": "stream",
     "text": [
      "It's a common misconception that if weight training gets your heart rate up, it can replace cardio. While weight training *does* have cardiovascular benefits and can elevate your heart rate, it's **not a substitute for dedicated cardio exercise** for several key reasons:\n",
      "\n",
      "Here's a breakdown of why they are distinct and why cardio remains essential:\n",
      "\n",
      "**1. Different Physiological Adaptations and Training Goals:**\n",
      "\n",
      "* **Cardio (Cardiovascular/Aerobic Exercise):**  The primary goal of cardio is to improve the efficiency and health of your **cardiovascular and respiratory systems**. This means training your heart, lungs, and blood vessels to deliver oxygen more effectively to your muscles over a *sustained period*.  Cardio adaptations include:\n",
      "    * **Stronger Heart Muscle:**  Your heart becomes more efficient at pumping blood with each beat (increased stroke volume).\n",
      "    * **Improved Lung Capacity and Efficiency:** Your lungs become better at taking in and utilizing oxygen.\n",
      "    * **Increased Capillarization:** More tiny blood vessels (capillaries) develop in your muscles, improving oxygen delivery.\n",
      "    * **Lower Resting Heart Rate and Blood Pressure:**  Indicators of a healthier cardiovascular system.\n",
      "    * **Enhanced Endurance:** You can sustain activity for longer periods without fatigue.\n",
      "    * **Improved Fat Burning (especially during lower intensity, longer duration cardio):** Your body becomes more efficient at using fat as fuel.\n",
      "\n",
      "* **Weight Training (Resistance/Strength Training):** The primary goal of weight training is to build **muscle strength, power, and size**. While it also has some cardiovascular benefits, these are secondary. Weight training adaptations include:\n",
      "    * **Muscle Hypertrophy:** Increased muscle fiber size and growth.\n",
      "    * **Increased Muscle Strength and Power:**  Ability to exert force and generate power.\n",
      "    * **Improved Bone Density:**  Weight-bearing exercise strengthens bones.\n",
      "    * **Boosted Metabolism (long-term):** More muscle mass increases your resting metabolic rate.\n",
      "    * **Improved Functional Strength:**  Easier performance of daily activities.\n",
      "\n",
      "**2. Different Types of Heart Rate Elevation:**\n",
      "\n",
      "* **Cardio Heart Rate Elevation:**  Cardio typically aims for a **sustained elevation of heart rate** within a specific target zone (often 50-85% of your maximum heart rate) for a continuous period (e.g., 20-60 minutes). This sustained effort is crucial for driving the cardiovascular adaptations mentioned above.\n",
      "\n",
      "* **Weight Training Heart Rate Elevation:** Weight training often involves **intermittent bursts of high heart rate** followed by rest periods.  Your heart rate might spike during a set, but it drops down during rest. This pattern is more **anaerobic** in nature, focusing on short bursts of intense effort and recovery. While your heart works harder during sets, it's not consistently working at a sustained elevated level for a prolonged duration.\n",
      "\n",
      "**3. Energy Systems Used:**\n",
      "\n",
      "* **Cardio primarily utilizes the Aerobic Energy System:** This system uses oxygen to produce energy over a longer duration. It's the primary fuel source for activities like running, swimming, cycling, and brisk walking.\n",
      "\n",
      "* **Weight Training relies more on the Anaerobic Energy System:**  This system provides energy quickly for short bursts of intense activity without relying heavily on oxygen.  It's crucial for lifting heavy weights, sprinting, and high-intensity intervals. While some aerobic energy is used during weight training, the anaerobic system is dominant.\n",
      "\n",
      "**4. Specificity of Training:**\n",
      "\n",
      "Your body adapts specifically to the type of stress you place on it.  If you want to improve your cardiovascular health and endurance, you need to engage in activities that specifically challenge your cardiovascular system in a sustained aerobic manner. Weight training, while beneficial in many ways, doesn't provide the same *specific* type of stimulus required for optimal cardiovascular adaptation.\n",
      "\n",
      "**5. Long-Term Cardiovascular Health Benefits:**\n",
      "\n",
      "While weight training contributes to overall health and can indirectly benefit cardiovascular health by reducing risk factors like obesity and improving insulin sensitivity, **dedicated cardio exercise is more directly and effectively linked to:**\n",
      "\n",
      "* **Reduced risk of heart disease, stroke, and other cardiovascular diseases.**\n",
      "* **Improved cholesterol levels.**\n",
      "* **Better blood sugar control.**\n",
      "* **Lower risk of type 2 diabetes.**\n",
      "\n",
      "**In summary:**\n",
      "\n",
      "Think of it like this:  Weight training is like building a powerful engine (muscles) and chassis (bones). Cardio is like ensuring your fuel delivery system (cardiovascular system) is efficient and can sustain the engine over long distances.\n",
      "\n",
      "You can't rely solely on building a powerful engine to guarantee efficient fuel delivery.  Both are important for overall performance and health.\n",
      "\n",
      "**Therefore, while weight training is incredibly valuable for strength, muscle mass, and overall fitness, it should be considered *complementary* to cardio, not a replacement for it.  For optimal health and well-rounded fitness, a balanced routine that includes both cardio and weight training is generally recommended.**\n"
     ]
    }
   ],
   "source": [
    "response = client.models.generate_content(\n",
    "    model='gemini-2.0-flash-thinking-exp',\n",
    "    contents='Explain why weight training is not a substitute for cardio even if it gets your heart rate up.',\n",
    ")\n",
    "\n",
    "print(response.text)"
   ]
  },
  {
   "cell_type": "code",
   "execution_count": 13,
   "metadata": {},
   "outputs": [
    {
     "name": "stdout",
     "output_type": "stream",
     "text": [
      "candidates=[Candidate(content=Content(parts=[Part(video_metadata=None, thought=None, code_execution_result=None, executable_code=None, file_data=None, function_call=None, function_response=None, inline_data=None, text=\"It's a common misconception that if weight training gets your heart rate up, it can replace cardio. While weight training *does* have cardiovascular benefits and can elevate your heart rate, it's **not a substitute for dedicated cardio exercise** for several key reasons:\\n\\nHere's a breakdown of why they are distinct and why cardio remains essential:\\n\\n**1. Different Physiological Adaptations and Training Goals:**\\n\\n* **Cardio (Cardiovascular/Aerobic Exercise):**  The primary goal of cardio is to improve the efficiency and health of your **cardiovascular and respiratory systems**. This means training your heart, lungs, and blood vessels to deliver oxygen more effectively to your muscles over a *sustained period*.  Cardio adaptations include:\\n    * **Stronger Heart Muscle:**  Your heart becomes more efficient at pumping blood with each beat (increased stroke volume).\\n    * **Improved Lung Capacity and Efficiency:** Your lungs become better at taking in and utilizing oxygen.\\n    * **Increased Capillarization:** More tiny blood vessels (capillaries) develop in your muscles, improving oxygen delivery.\\n    * **Lower Resting Heart Rate and Blood Pressure:**  Indicators of a healthier cardiovascular system.\\n    * **Enhanced Endurance:** You can sustain activity for longer periods without fatigue.\\n    * **Improved Fat Burning (especially during lower intensity, longer duration cardio):** Your body becomes more efficient at using fat as fuel.\\n\\n* **Weight Training (Resistance/Strength Training):** The primary goal of weight training is to build **muscle strength, power, and size**. While it also has some cardiovascular benefits, these are secondary. Weight training adaptations include:\\n    * **Muscle Hypertrophy:** Increased muscle fiber size and growth.\\n    * **Increased Muscle Strength and Power:**  Ability to exert force and generate power.\\n    * **Improved Bone Density:**  Weight-bearing exercise strengthens bones.\\n    * **Boosted Metabolism (long-term):** More muscle mass increases your resting metabolic rate.\\n    * **Improved Functional Strength:**  Easier performance of daily activities.\\n\\n**2. Different Types of Heart Rate Elevation:**\\n\\n* **Cardio Heart Rate Elevation:**  Cardio typically aims for a **sustained elevation of heart rate** within a specific target zone (often 50-85% of your maximum heart rate) for a continuous period (e.g., 20-60 minutes). This sustained effort is crucial for driving the cardiovascular adaptations mentioned above.\\n\\n* **Weight Training Heart Rate Elevation:** Weight training often involves **intermittent bursts of high heart rate** followed by rest periods.  Your heart rate might spike during a set, but it drops down during rest. This pattern is more **anaerobic** in nature, focusing on short bursts of intense effort and recovery. While your heart works harder during sets, it's not consistently working at a sustained elevated level for a prolonged duration.\\n\\n**3. Energy Systems Used:**\\n\\n* **Cardio primarily utilizes the Aerobic Energy System:** This system uses oxygen to produce energy over a longer duration. It's the primary fuel source for activities like running, swimming, cycling, and brisk walking.\\n\\n* **Weight Training relies more on the Anaerobic Energy System:**  This system provides energy quickly for short bursts of intense activity without relying heavily on oxygen.  It's crucial for lifting heavy weights, sprinting, and high-intensity intervals. While some aerobic energy is used during weight training, the anaerobic system is dominant.\\n\\n**4. Specificity of Training:**\\n\\nYour body adapts specifically to the type of stress you place on it.  If you want to improve your cardiovascular health and endurance, you need to engage in activities that specifically challenge your cardiovascular system in a sustained aerobic manner. Weight training, while beneficial in many ways, doesn't provide the same *specific* type of stimulus required for optimal cardiovascular adaptation.\\n\\n**5. Long-Term Cardiovascular Health Benefits:**\\n\\nWhile weight training contributes to overall health and can indirectly benefit cardiovascular health by reducing risk factors like obesity and improving insulin sensitivity, **dedicated cardio exercise is more directly and effectively linked to:**\\n\\n* **Reduced risk of heart disease, stroke, and other cardiovascular diseases.**\\n* **Improved cholesterol levels.**\\n* **Better blood sugar control.**\\n* **Lower risk of type 2 diabetes.**\\n\\n**In summary:**\\n\\nThink of it like this:  Weight training is like building a powerful engine (muscles) and chassis (bones). Cardio is like ensuring your fuel delivery system (cardiovascular system) is efficient and can sustain the engine over long distances.\\n\\nYou can't rely solely on building a powerful engine to guarantee efficient fuel delivery.  Both are important for overall performance and health.\\n\\n**Therefore, while weight training is incredibly valuable for strength, muscle mass, and overall fitness, it should be considered *complementary* to cardio, not a replacement for it.  For optimal health and well-rounded fitness, a balanced routine that includes both cardio and weight training is generally recommended.**\")], role='model'), citation_metadata=None, finish_message=None, token_count=None, avg_logprobs=None, finish_reason=<FinishReason.STOP: 'STOP'>, grounding_metadata=None, index=0, logprobs_result=None, safety_ratings=None)] model_version='gemini-2.0-flash-thinking-exp-01-21' prompt_feedback=None usage_metadata=GenerateContentResponseUsageMetadata(cached_content_token_count=None, candidates_token_count=1036, prompt_token_count=20, total_token_count=1056) automatic_function_calling_history=[] parsed=None\n"
     ]
    }
   ],
   "source": [
    "print(response)"
   ]
  },
  {
   "cell_type": "code",
   "execution_count": 9,
   "metadata": {},
   "outputs": [],
   "source": [
    "# # structured response\n",
    "# result = model.generate_content(\n",
    "#     sample_prompt,\n",
    "#     generation_config=genai.GenerationConfig(\n",
    "#         response_mime_type=\"application/json\", response_schema=TagResponse\n",
    "#     ),\n",
    "# )\n",
    "# print(result.text)"
   ]
  },
  {
   "cell_type": "code",
   "execution_count": 9,
   "metadata": {},
   "outputs": [
    {
     "name": "stdout",
     "output_type": "stream",
     "text": [
      "Index:  44\n"
     ]
    }
   ],
   "source": [
    "idx = np.random.choice(len(messages))\n",
    "print(\"Index: \", idx)\n",
    "latest_message = messages.loc[idx, 'last_message']\n",
    "message_context = messages.loc[idx, 'message_context']\n",
    "USER_IN = f\"Previous Message Context: {message_context}\\n\\nLatest Message: {latest_message}\"\n",
    "PROMPT  = care_coach_prompt.format(user_input=USER_IN, protocols=care_coach_protocols)"
   ]
  },
  {
   "cell_type": "code",
   "execution_count": 11,
   "metadata": {},
   "outputs": [],
   "source": [
    "result = model.generate_content(PROMPT)"
   ]
  },
  {
   "cell_type": "code",
   "execution_count": 12,
   "metadata": {},
   "outputs": [
    {
     "name": "stdout",
     "output_type": "stream",
     "text": [
      "<class 'str'>\n",
      "```json\n",
      "{\n",
      "  \"empathy_focused_response\": \"Hi Ashley, I understand your concern about the delay in your prescription shipment. It's definitely frustrating when you're eager to start your treatment. I see you are taking compounded Semaglutide for weight loss. Let me look into the status of your order right away and get you an update. I'll also connect you with our Customer Support team who can provide more specific details regarding shipping timelines.\",\n",
      "  \"clinical_detailed_response\": \"Hi Ashley, I understand you're inquiring about the shipping status of your compounded Semaglutide prescription, and I apologize for the delay you've experienced. It's been nearly 10 days, which is longer than our usual processing time. While I can't provide the exact shipping details here, I will check on your order status immediately. For concerns specifically related to cost or shipping, I will also connect you with our Customer Support team, who are best equipped to give you detailed information regarding your order. They can assist you further with any questions about shipping timelines or other logistics. I'll make sure they have all the necessary information to help you efficiently.\"\n",
      "}\n",
      "```\n",
      "\n"
     ]
    }
   ],
   "source": [
    "print(type(result.text))\n",
    "print(result.text)"
   ]
  },
  {
   "cell_type": "code",
   "execution_count": 23,
   "metadata": {},
   "outputs": [
    {
     "data": {
      "text/plain": [
       "True"
      ]
     },
     "execution_count": 23,
     "metadata": {},
     "output_type": "execute_result"
    }
   ],
   "source": [
    "text = result.text\n",
    "text.startswith('```')"
   ]
  },
  {
   "cell_type": "code",
   "execution_count": 14,
   "metadata": {},
   "outputs": [],
   "source": [
    "def parse_response(response):\n",
    "    # Strip code fences if present\n",
    "    if response.startswith('```'):\n",
    "        # Find the first newline after the opening fence\n",
    "        start = response.find('\\n') + 1\n",
    "        # Find the last closing fence\n",
    "        end = response.rfind('```')\n",
    "        # Extract the content between fences\n",
    "        response = response[start:end].strip()\n",
    "    return json.loads(response)\n",
    "\n",
    "parsed_response = parse_response(result.text)"
   ]
  },
  {
   "cell_type": "code",
   "execution_count": 17,
   "metadata": {},
   "outputs": [
    {
     "data": {
      "text/plain": [
       "dict_keys(['empathy_focused_response', 'clinical_detailed_response'])"
      ]
     },
     "execution_count": 17,
     "metadata": {},
     "output_type": "execute_result"
    }
   ],
   "source": [
    "parsed_response.keys()"
   ]
  },
  {
   "cell_type": "code",
   "execution_count": 19,
   "metadata": {},
   "outputs": [
    {
     "name": "stdout",
     "output_type": "stream",
     "text": [
      "Latest Message:\n",
      " Is there a way to get an update on when my prescription will be shipped?  It's almost been 10 days of wait time and it still hasn't been filled by the pharmacy\n",
      "\n",
      "Empathy-Focused Response:\n",
      " Hi Ashley, I understand your concern about the delay in your prescription shipment. It's definitely frustrating when you're eager to start your treatment. I see you are taking compounded Semaglutide for weight loss. Let me look into the status of your order right away and get you an update. I'll also connect you with our Customer Support team who can provide more specific details regarding shipping timelines.\n",
      "\n",
      "Detailed Response:\n",
      " Hi Ashley, I understand you're inquiring about the shipping status of your compounded Semaglutide prescription, and I apologize for the delay you've experienced. It's been nearly 10 days, which is longer than our usual processing time. While I can't provide the exact shipping details here, I will check on your order status immediately. For concerns specifically related to cost or shipping, I will also connect you with our Customer Support team, who are best equipped to give you detailed information regarding your order. They can assist you further with any questions about shipping timelines or other logistics. I'll make sure they have all the necessary information to help you efficiently.\n"
     ]
    }
   ],
   "source": [
    "print(\"Latest Message:\\n\", latest_message)\n",
    "print()\n",
    "print(\"Empathy-Focused Response:\\n\", parsed_response['empathy_focused_response'])\n",
    "print()\n",
    "print(\"Detailed Response:\\n\", parsed_response['clinical_detailed_response'])"
   ]
  },
  {
   "cell_type": "code",
   "execution_count": null,
   "metadata": {},
   "outputs": [],
   "source": []
  }
 ],
 "metadata": {
  "kernelspec": {
   "display_name": "PatientSummary",
   "language": "python",
   "name": "patientsummary"
  },
  "language_info": {
   "codemirror_mode": {
    "name": "ipython",
    "version": 3
   },
   "file_extension": ".py",
   "mimetype": "text/x-python",
   "name": "python",
   "nbconvert_exporter": "python",
   "pygments_lexer": "ipython3",
   "version": "3.13.2"
  }
 },
 "nbformat": 4,
 "nbformat_minor": 2
}
