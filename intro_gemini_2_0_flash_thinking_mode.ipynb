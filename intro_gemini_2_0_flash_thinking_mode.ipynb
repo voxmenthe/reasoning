{
  "cells": [
    {
      "cell_type": "markdown",
      "metadata": {
        "id": "8MqT58L6Rm_q"
      },
      "source": [
        "| | |\n",
        "|-|-|\n",
        "| Author(s) |  [Guillaume Vernade](https://github.com/giom-v), [Eric Dong](https://github.com/gericdong) |"
      ]
    },
    {
      "cell_type": "markdown",
      "metadata": {
        "id": "3w14yjWnPVD-"
      },
      "source": [
        "## Overview\n",
        "\n",
        "[Gemini 2.0 Flash Thinking](https://cloud.google.com/vertex-ai/generative-ai/docs/thinking-mode) is an experimental model that's trained to generate the \"thinking process\" the model goes through as part of its response. As a result, the Flash Thinking model is capable of stronger reasoning capabilities in its responses than the Gemini 2.0 Flash model.\n",
        "\n",
        "This tutorial demonstrates how to access the Gemini 2.0 Flash Thinking model and use the model to solve the following complex tasks that require multiple rounds of strategizing and iteratively solving.\n",
        "\n",
        "- Example 1: Code simplification\n",
        "- Example 2: Geometry problem (with image)\n",
        "- Example 3: Mathematical brain teaser\n",
        "- Example 4: Generating question for a specific level of knowledge\n",
        "- Example 5: Statistics\n",
        "- Example 6: Brain teaser with a twist\n"
      ]
    },
    {
      "cell_type": "markdown",
      "metadata": {
        "id": "gPiTOAHURvTM"
      },
      "source": [
        "## Getting Started"
      ]
    },
    {
      "cell_type": "markdown",
      "metadata": {
        "id": "CHRZUpfWSEpp"
      },
      "source": [
        "### Install Google Gen AI SDK for Python\n"
      ]
    },
    {
      "cell_type": "code",
      "execution_count": null,
      "metadata": {
        "id": "sG3_LKsWSD3A"
      },
      "outputs": [],
      "source": [
        "%pip install --upgrade --quiet google-genai"
      ]
    },
    {
      "cell_type": "markdown",
      "metadata": {
        "id": "HlMVjiAWSMNX"
      },
      "source": [
        "### Authenticate your notebook environment (Colab only)\n",
        "\n",
        "If you are running this notebook on Google Colab, run the cell below to authenticate your environment."
      ]
    },
    {
      "cell_type": "markdown",
      "metadata": {
        "id": "0Ef0zVX-X9Bg"
      },
      "source": [
        "### Import libraries\n"
      ]
    },
    {
      "cell_type": "code",
      "execution_count": 1,
      "metadata": {
        "id": "xBCH3hnAX9Bh"
      },
      "outputs": [],
      "source": [
        "from collections.abc import Iterator\n",
        "import os\n",
        "\n",
        "from IPython.display import Image, Markdown, display\n",
        "from google import genai\n",
        "from google.genai.types import (\n",
        "    GenerateContentConfig,\n",
        "    GenerateContentResponse,\n",
        "    Part,\n",
        "    ThinkingConfig,\n",
        ")"
      ]
    },
    {
      "cell_type": "markdown",
      "metadata": {
        "id": "LymmEN6GSTn-"
      },
      "source": [
        "### Set Google Cloud project information and create client\n",
        "\n",
        "To get started using Vertex AI, you must have an existing Google Cloud project and [enable the Vertex AI API](https://console.cloud.google.com/flows/enableapi?apiid=aiplatform.googleapis.com).\n",
        "\n",
        "Learn more about [setting up a project and a development environment](https://cloud.google.com/vertex-ai/docs/start/cloud-environment)."
      ]
    },
    {
      "cell_type": "code",
      "execution_count": 14,
      "metadata": {
        "id": "Nqwi-5ufWp_B"
      },
      "outputs": [],
      "source": [
        "PROJECT_ID = \"[your-project-id]\"  # @param {type: \"string\"}\n",
        "if not PROJECT_ID or PROJECT_ID == \"[your-project-id]\":\n",
        "    PROJECT_ID = str(os.environ.get(\"GOOGLE_CLOUD_PROJECT\"))\n",
        "\n",
        "LOCATION = os.environ.get(\"GOOGLE_CLOUD_REGION\", \"us-central1\")"
      ]
    },
    {
      "cell_type": "code",
      "execution_count": 15,
      "metadata": {
        "id": "T-tiytzQE0uM"
      },
      "outputs": [],
      "source": [
        "client = genai.Client(\n",
        "    vertexai=True,\n",
        "    project='jcoggshall-ml-2024',\n",
        "    location='us-central1',\n",
        ")"
      ]
    },
    {
      "cell_type": "code",
      "execution_count": 2,
      "metadata": {},
      "outputs": [],
      "source": [
        "from creds import all_creds\n",
        "client = genai.Client(api_key=all_creds['GEMINI_HIMS_API_KEY_mlproj_V1'], http_options={'api_version':'v1alpha'})"
      ]
    },
    {
      "cell_type": "markdown",
      "metadata": {
        "id": "w0u6hYSleE0H"
      },
      "source": [
        "## Use Gemini 2.0 Flash Thinking Model\n"
      ]
    },
    {
      "cell_type": "markdown",
      "metadata": {
        "id": "5M7EKckIYVFy"
      },
      "source": [
        "### Set model ID\n",
        "\n",
        "See the [Google models](https://cloud.google.com/vertex-ai/generative-ai/docs/learn/models) page for more information."
      ]
    },
    {
      "cell_type": "code",
      "execution_count": 15,
      "metadata": {
        "id": "-coEslfWPrxo"
      },
      "outputs": [],
      "source": [
        "MODEL_ID = \"gemini-2.0-flash-thinking-exp-01-21\"  # @param {type: \"string\"}"
      ]
    },
    {
      "cell_type": "markdown",
      "metadata": {
        "id": "72e846835b84"
      },
      "source": [
        "### Helper functions\n",
        "\n",
        "Create methods to print out the thoughts and answer."
      ]
    },
    {
      "cell_type": "code",
      "execution_count": 16,
      "metadata": {
        "id": "51e2ab48b44a"
      },
      "outputs": [],
      "source": [
        "def print_thoughts(response: GenerateContentResponse) -> None:\n",
        "    for part in response.candidates[0].content.parts:\n",
        "        header = \"Thoughts\" if part.thought else \"Answer\"\n",
        "        display(Markdown(f\"\"\"## {header}:\\n{part.text}\"\"\"))\n",
        "\n",
        "\n",
        "def print_thoughts_stream(response: Iterator[GenerateContentResponse]) -> None:\n",
        "    display(Markdown(\"## Thoughts:\\n\"))\n",
        "    answer_shown = False\n",
        "\n",
        "    for chunk in response:\n",
        "        for part in chunk.candidates[0].content.parts:\n",
        "            if not part.thought and not answer_shown:\n",
        "                display(Markdown(\"## Answer:\\n\"))\n",
        "                answer_shown = True\n",
        "            display(Markdown(part.text))"
      ]
    },
    {
      "cell_type": "markdown",
      "metadata": {
        "id": "7103e527293a"
      },
      "source": [
        "### Enable thoughts\n",
        "\n",
        "You set the flag `include_thoughts` in the `ThinkingConfig` to indicate whether to return thoughts in the model response. The flag is set to `False` by default."
      ]
    },
    {
      "cell_type": "code",
      "execution_count": 17,
      "metadata": {
        "id": "869bd363d8fc"
      },
      "outputs": [],
      "source": [
        "config = GenerateContentConfig(thinking_config=ThinkingConfig(include_thoughts=True))"
      ]
    },
    {
      "cell_type": "markdown",
      "metadata": {
        "id": "c5fc462efc55"
      },
      "source": [
        "### Generate content with thoughts\n",
        "\n",
        "Then use the `generate_content` method to send a request to generate content with thoughts. The model responds with multiple parts, the thoughts and the model response. You can check the `part.thought` field to determine if a part is a thought or not."
      ]
    },
    {
      "cell_type": "code",
      "execution_count": 18,
      "metadata": {
        "id": "c55bf1df11ea"
      },
      "outputs": [
        {
          "data": {
            "text/markdown": [
              "## Answer:\n",
              "This sequence is a geometric sequence where each number is multiplied by 2 to get the next number.\n",
              "\n",
              "* 2 * 2 = 4\n",
              "* 4 * 2 = 8\n",
              "* 8 * 2 = 16\n",
              "\n",
              "To find the next number, we multiply the last number (16) by 2:\n",
              "\n",
              "* 16 * 2 = 32\n",
              "\n",
              "Therefore, the next number in the sequence is **32**."
            ],
            "text/plain": [
              "<IPython.core.display.Markdown object>"
            ]
          },
          "metadata": {},
          "output_type": "display_data"
        }
      ],
      "source": [
        "response = client.models.generate_content(\n",
        "    model=MODEL_ID,\n",
        "    contents=\"What is the next number in this sequence: 2, 4, 8, 16, __?\",\n",
        "    config=config,\n",
        ")\n",
        "print_thoughts(response)"
      ]
    },
    {
      "cell_type": "code",
      "execution_count": 19,
      "metadata": {},
      "outputs": [
        {
          "name": "stdout",
          "output_type": "stream",
          "text": [
            "[Candidate(content=Content(parts=[Part(video_metadata=None, thought=None, code_execution_result=None, executable_code=None, file_data=None, function_call=None, function_response=None, inline_data=None, text='This sequence is a geometric sequence where each number is multiplied by 2 to get the next number.\\n\\n* 2 * 2 = 4\\n* 4 * 2 = 8\\n* 8 * 2 = 16\\n\\nTo find the next number, we multiply the last number (16) by 2:\\n\\n* 16 * 2 = 32\\n\\nTherefore, the next number in the sequence is **32**.')], role='model'), citation_metadata=None, finish_message=None, token_count=None, avg_logprobs=None, finish_reason=<FinishReason.STOP: 'STOP'>, grounding_metadata=None, index=0, logprobs_result=None, safety_ratings=None)]\n"
          ]
        }
      ],
      "source": [
        "print(response.candidates)"
      ]
    },
    {
      "cell_type": "markdown",
      "metadata": {
        "id": "0c9a466d65d0"
      },
      "source": [
        "### Generate content stream with thoughts\n",
        "\n",
        "You can also use the `generate_content_stream` method to stream the response and thoughts as they are being generated, and the model will return chunks of the response as soon as they are generated."
      ]
    },
    {
      "cell_type": "code",
      "execution_count": 7,
      "metadata": {
        "id": "425f08594870"
      },
      "outputs": [
        {
          "data": {
            "text/markdown": [
              "## Thoughts:\n"
            ],
            "text/plain": [
              "<IPython.core.display.Markdown object>"
            ]
          },
          "metadata": {},
          "output_type": "display_data"
        },
        {
          "data": {
            "text/markdown": [
              "## Answer:\n"
            ],
            "text/plain": [
              "<IPython.core.display.Markdown object>"
            ]
          },
          "metadata": {},
          "output_type": "display_data"
        },
        {
          "data": {
            "text/markdown": [
              "Yes, the Monty Hall Problem **changes significantly** if all the doors are made of transparent glass.  "
            ],
            "text/plain": [
              "<IPython.core.display.Markdown object>"
            ]
          },
          "metadata": {},
          "output_type": "display_data"
        },
        {
          "data": {
            "text/markdown": [
              "In fact, it essentially **eliminates the paradox and the strategic element** of the original problem.\n",
              "\n",
              "Here's why:\n",
              "\n",
              "**In the Original Monty Hall Problem (Opaque Doors):**\n",
              "\n",
              "* **Information Asymmetry:** You have limited information. You don't know where the car is. Monty *"
            ],
            "text/plain": [
              "<IPython.core.display.Markdown object>"
            ]
          },
          "metadata": {},
          "output_type": "display_data"
        },
        {
          "data": {
            "text/markdown": [
              "does* know where the car is.\n",
              "* **Monty's Action is Informative:** Monty opening a door to reveal a goat is not random. He *chooses* to open a door that he knows hides a goat and is *not* the door you initially picked. This action provides you with new information about the remaining"
            ],
            "text/plain": [
              "<IPython.core.display.Markdown object>"
            ]
          },
          "metadata": {},
          "output_type": "display_data"
        },
        {
          "data": {
            "text/markdown": [
              " unopened door.\n",
              "* **Switching is Advantageous:**  Because of Monty's informed action, switching doors doubles your probability of winning from 1/3 to 2/3.\n",
              "\n",
              "**In the Transparent Doors Monty Hall Problem:**\n",
              "\n",
              "* **No Information Asymmetry:**  You can see right through the doors. Before"
            ],
            "text/plain": [
              "<IPython.core.display.Markdown object>"
            ]
          },
          "metadata": {},
          "output_type": "display_data"
        },
        {
          "data": {
            "text/markdown": [
              " you even make your initial choice, you know exactly which door has the car and which doors have goats.\n",
              "* **Monty's Action is Irrelevant (or Unnecessary):**\n",
              "    * **If Monty still opens a door:** It's a pointless action.  You already know what's behind every"
            ],
            "text/plain": [
              "<IPython.core.display.Markdown object>"
            ]
          },
          "metadata": {},
          "output_type": "display_data"
        },
        {
          "data": {
            "text/markdown": [
              " door. Opening a goat door provides no new information because you already saw it was a goat door.\n",
              "    * **Monty might not even bother opening a door:**  The game becomes trivial.\n",
              "\n",
              "**How the Game Changes and Why Switching is No Longer Relevant:**\n",
              "\n",
              "1. **Your Initial Choice:**  With transparent doors, you"
            ],
            "text/plain": [
              "<IPython.core.display.Markdown object>"
            ]
          },
          "metadata": {},
          "output_type": "display_data"
        },
        {
          "data": {
            "text/markdown": [
              " will **always choose the door with the car behind it** on your first pick.  There's no reason to choose a door with a goat when you can clearly see the car.\n",
              "\n",
              "2. **Monty's \"Reveal\":** If Monty still goes through the motions of opening a door, it's incon"
            ],
            "text/plain": [
              "<IPython.core.display.Markdown object>"
            ]
          },
          "metadata": {},
          "output_type": "display_data"
        },
        {
          "data": {
            "text/markdown": [
              "sequential.  You already know where the car is.\n",
              "\n",
              "3. **Switching Option:**  You are offered the chance to switch.  **There is absolutely no benefit to switching.**\n",
              "\n",
              "    * **If you initially picked the car door (which you would):** Switching would mean moving to a door with a goat,"
            ],
            "text/plain": [
              "<IPython.core.display.Markdown object>"
            ]
          },
          "metadata": {},
          "output_type": "display_data"
        },
        {
          "data": {
            "text/markdown": [
              " guaranteeing you lose.\n",
              "    * **You would never intentionally pick a goat door initially:** Because you can see everything.\n",
              "\n",
              "**Probability of Winning:**\n",
              "\n",
              "* **With transparent doors and rational play:** Your probability of winning becomes **1 (or 100%)**.  You will simply choose the door with the car from"
            ],
            "text/plain": [
              "<IPython.core.display.Markdown object>"
            ]
          },
          "metadata": {},
          "output_type": "display_data"
        },
        {
          "data": {
            "text/markdown": [
              " the beginning.\n",
              "\n",
              "**In Summary:**\n",
              "\n",
              "Transparent doors completely alter the Monty Hall Problem because they eliminate the element of uncertainty and hidden information that makes the original problem a paradox.  The game becomes a straightforward exercise in observation. There's no strategy involved, and the decision to switch or stay becomes irrelevant because you already have"
            ],
            "text/plain": [
              "<IPython.core.display.Markdown object>"
            ]
          },
          "metadata": {},
          "output_type": "display_data"
        },
        {
          "data": {
            "text/markdown": [
              " perfect information.\n",
              "\n",
              "The core of the Monty Hall Problem is about updating probabilities based on new information provided by Monty's action.  Transparent doors remove the need for any probability calculations or strategic thinking because all the information is available upfront."
            ],
            "text/plain": [
              "<IPython.core.display.Markdown object>"
            ]
          },
          "metadata": {},
          "output_type": "display_data"
        }
      ],
      "source": [
        "response = client.models.generate_content_stream(\n",
        "    model=MODEL_ID,\n",
        "    contents=\"Does the Monty Hall Problem change if all the doors are made of transparent glass?\",\n",
        "    config=config,\n",
        ")\n",
        "\n",
        "print_thoughts_stream(response)"
      ]
    },
    {
      "cell_type": "markdown",
      "metadata": {
        "id": "IrRBg9UGC9nn"
      },
      "source": [
        "## Thinking Model examples\n",
        "\n",
        "The following examples are some complex tasks that require multiple rounds of strategizing and iteratively solving.\n",
        "\n",
        "### **Example 1**: Code simplification\n",
        "\n",
        "First, try with a simple code comprehension and simplification example."
      ]
    },
    {
      "cell_type": "code",
      "execution_count": 8,
      "metadata": {
        "id": "dLhhffx2C9nn"
      },
      "outputs": [
        {
          "data": {
            "text/markdown": [
              "## Answer:\n",
              "Let's break down this JavaScript code and see how we can simplify it while maintaining its functionality.\n",
              "\n",
              "**Understanding the Original Code**\n",
              "\n",
              "The code is performing the following steps:\n",
              "\n",
              "1. **`radius / pixelsPerMile`**:  This calculates a ratio.  Assuming `radius` is in pixels and `pixelsPerMile` is the number of pixels representing one mile, this division likely converts the radius from pixels to miles.\n",
              "\n",
              "2. **`* 10`**: This multiplies the result by 10. This is done to shift the decimal point one place to the right, preparing for rounding to the nearest tenth.\n",
              "\n",
              "3. **`Math.round(...)`**: This rounds the result to the nearest integer.  After multiplying by 10, rounding to the nearest integer effectively rounds the original value to the nearest tenth.\n",
              "\n",
              "4. **`/ 10`**: This divides the rounded result by 10, shifting the decimal point back to its original position.  This completes the rounding to one decimal place.\n",
              "\n",
              "5. **`.toFixed(1)`**: This converts the rounded number to a string, ensuring it always has exactly one digit after the decimal point. Even if the rounded number is a whole number (e.g., 2), `toFixed(1)` will make it `\"2.0\"`.\n",
              "\n",
              "**Simplifying the Code**\n",
              "\n",
              "The core logic is already quite concise.  There isn't a significantly shorter way to achieve the *exact* same numerical rounding and string formatting in standard JavaScript. However, we can improve readability and potentially make it slightly more efficient by:\n",
              "\n",
              "**1.  Using a Variable for Clarity:**\n",
              "\n",
              "   If you're using this calculation in multiple places or want to make the code easier to understand at a glance, you can introduce a variable to store the intermediate value before formatting:\n",
              "\n",
              "   ```javascript\n",
              "   const milesRadius = radius / pixelsPerMile;\n",
              "   const roundedMilesString = (Math.round(milesRadius * 10) / 10).toFixed(1);\n",
              "   ```\n",
              "\n",
              "   This breaks the calculation into two steps and makes it clearer what's being calculated (radius in miles) and what's being done (rounding and formatting).\n",
              "\n",
              "**2.  Slightly More Concise (but potentially less readable for some):**\n",
              "\n",
              "   You could combine the rounding and `toFixed` a bit closer, but it might not be significantly more readable:\n",
              "\n",
              "   ```javascript\n",
              "   const milesRadius = radius / pixelsPerMile;\n",
              "   const formattedMilesRadius = (Math.round(milesRadius * 10) / 10).toFixed(1);\n",
              "   ```\n",
              "\n",
              "   This is very similar to your original code, just with a variable for the initial division.\n",
              "\n",
              "**3.  No Significant Numerical Simplification:**\n",
              "\n",
              "   There isn't a built-in JavaScript `Math` function that directly rounds to a specific number of decimal places *and* returns a number (without converting to a string). The `Math.round(x * 10) / 10` pattern is a common and efficient way to round to one decimal place in JavaScript.\n",
              "\n",
              "**Which Simplification to Choose?**\n",
              "\n",
              "* **For Readability and Maintainability:**  The first option (using `milesRadius` variable) is generally the best. It clearly separates the unit conversion from the rounding and formatting. This makes the code easier to understand and modify later.\n",
              "\n",
              "* **For Conciseness (Slightly):** The second option is slightly more concise but offers minimal readability improvement over the original if you are already familiar with the rounding pattern.\n",
              "\n",
              "* **No need to over-simplify numerically:**  The core numerical logic (`Math.round(x * 10) / 10`) is already a very efficient and standard way to round to one decimal place in JavaScript when you need to round to the nearest tenth.\n",
              "\n",
              "**Example with Variable (Recommended):**\n",
              "\n",
              "```javascript\n",
              "const radius = 1500; // Example radius in pixels\n",
              "const pixelsPerMile = 5280; // Example: 5280 pixels per mile (adjust based on your pixel density)\n",
              "\n",
              "const milesRadius = radius / pixelsPerMile;\n",
              "const roundedMilesString = (Math.round(milesRadius * 10) / 10).toFixed(1);\n",
              "\n",
              "console.log(\"Radius in pixels:\", radius);\n",
              "console.log(\"Pixels per mile:\", pixelsPerMile);\n",
              "console.log(\"Radius in miles (rounded to one decimal place):\", roundedMilesString);\n",
              "```\n",
              "\n",
              "**In summary, while the original code is already fairly concise, adding a variable to represent the intermediate value (`milesRadius`) significantly improves readability and maintainability without sacrificing efficiency.  There isn't a drastically shorter or numerically simpler way to achieve the exact same result in standard JavaScript.**"
            ],
            "text/plain": [
              "<IPython.core.display.Markdown object>"
            ]
          },
          "metadata": {},
          "output_type": "display_data"
        }
      ],
      "source": [
        "prompt = \"\"\"\n",
        "How can I simplify this?\n",
        "`(Math.round(radius/pixelsPerMile * 10) / 10).toFixed(1);`\n",
        "\"\"\"\n",
        "\n",
        "response = client.models.generate_content(\n",
        "    model=MODEL_ID,\n",
        "    contents=prompt,\n",
        "    config=config,\n",
        ")\n",
        "\n",
        "print_thoughts(response)"
      ]
    },
    {
      "cell_type": "markdown",
      "metadata": {
        "id": "d6cOmdVPC9nn"
      },
      "source": [
        "As a comparison here's what you'd get with the [Gemini 2.0 Flash](https://cloud.google.com/vertex-ai/generative-ai/docs/gemini-v2) base model.\n",
        "\n",
        "Unlike thinking mode, the normal model does not articulate its thoughts and tries to answer right away which can lead to more simple answers to complex problems."
      ]
    },
    {
      "cell_type": "code",
      "execution_count": 9,
      "metadata": {
        "id": "027b7d9a6134"
      },
      "outputs": [
        {
          "data": {
            "text/markdown": [
              "Okay, let's break down how to simplify this JavaScript code snippet. The goal is to make it more readable and potentially more efficient while achieving the same result.\n",
              "\n",
              "**Understanding the Current Code**\n",
              "\n",
              "The code is designed to:\n",
              "\n",
              "1.  **`radius / pixelsPerMile`**:  Divide the `radius` value by `pixelsPerMile`.  This likely represents converting a radius from some unit (like miles) to pixels.\n",
              "\n",
              "2.  **`* 10`**: Multiply the result by 10.\n",
              "\n",
              "3.  **`Math.round(...)`**: Round the result to the nearest whole number.\n",
              "\n",
              "4.  **`/ 10`**: Divide the rounded result by 10 again.  This effectively rounds the original result to the nearest tenth (one decimal place).\n",
              "\n",
              "5.  **`.toFixed(1)`**: Converts the number to a string, guaranteeing that it has exactly one digit after the decimal point, even if that means adding a trailing zero (e.g., 5 becomes \"5.0\").\n",
              "\n",
              "**Potential Simplifications and Considerations**\n",
              "\n",
              "Here's a breakdown of simplification options, along with explanations:\n",
              "\n",
              "*   **Combine Multiplication and Division:**\n",
              "\n",
              "    You can combine the `* 10` and `/ 10` operations into a single multiplication by the appropriate power of 10. In this case they cancel each other out, but this is more for general purposes when the values are different.\n",
              "    *   Original: `(Math.round(radius/pixelsPerMile * 10) / 10).toFixed(1);`\n",
              "    *   Simplified: `(Math.round((radius/pixelsPerMile) * 10) / 10).toFixed(1);`\n",
              "\n",
              "*   **Direct Rounding to One Decimal Place:**\n",
              "\n",
              "    JavaScript has a more direct way to round to a specific number of decimal places using the `Math.round()` function with some clever multiplication and division.  This avoids some of the potential floating-point precision issues.\n",
              "\n",
              "    *   Original: `(Math.round(radius/pixelsPerMile * 10) / 10).toFixed(1);`\n",
              "    *   Simplified:  `(Math.round((radius / pixelsPerMile) * 10) / 10).toFixed(1);`\n",
              "\n",
              "*   **Simplify with a function**\n",
              "\n",
              "   If the goal is reusability and understandability, create a function for this:\n",
              "\n",
              "   ```javascript\n",
              "   function roundToNearestTenth(value) {\n",
              "       return (Math.round(value * 10) / 10).toFixed(1);\n",
              "   }\n",
              "\n",
              "   const result = roundToNearestTenth(radius / pixelsPerMile);\n",
              "   ```\n",
              "\n",
              "**Why these are simplifications:**\n",
              "\n",
              "*   **Readability:** Using a function makes the purpose of the code very clear. It's self-documenting.\n",
              "\n",
              "*   **Maintainability:** If you need to change the rounding logic, you only need to modify it in one place (the function).\n",
              "**Example**\n",
              "\n",
              "```javascript\n",
              "const radius = 1234;\n",
              "const pixelsPerMile = 100;\n",
              "\n",
              "// Original way\n",
              "const originalResult = (Math.round(radius / pixelsPerMile * 10) / 10).toFixed(1);\n",
              "console.log(\"Original Result:\", originalResult); // Output: 123.4\n",
              "\n",
              "// Simplified way with function\n",
              "function roundToNearestTenth(value) {\n",
              "    return (Math.round(value * 10) / 10).toFixed(1);\n",
              "}\n",
              "\n",
              "const simplifiedResult = roundToNearestTenth(radius / pixelsPerMile);\n",
              "console.log(\"Simplified Result:\", simplifiedResult); // Output: 123.4\n",
              "```\n",
              "\n",
              "**Important Considerations:**\n",
              "\n",
              "*   **Floating-Point Precision:**  JavaScript uses floating-point numbers, which can sometimes lead to small rounding errors.  The `toFixed(1)` method will truncate or round the number as necessary to ensure it has the specified number of decimal places, mitigating some of these issues.  If you need extremely precise calculations (e.g., in financial applications), consider using a library designed for arbitrary-precision arithmetic.\n",
              "\n",
              "*   **Context:** The \"best\" simplification depends on the overall context of your code.  If you're doing this rounding operation in many places, a function is definitely the way to go.  If it's only used once, the in-line simplified version might be sufficient.\n",
              "\n",
              "In summary, the function approach is generally the best for readability and maintainability, but the simplified in-line approaches can be useful for one-off cases where you want to reduce the amount of code.  Always prioritize code clarity and maintainability.\n"
            ],
            "text/plain": [
              "<IPython.core.display.Markdown object>"
            ]
          },
          "metadata": {},
          "output_type": "display_data"
        }
      ],
      "source": [
        "response = client.models.generate_content(\n",
        "    model=\"gemini-2.0-flash-001\",\n",
        "    contents=prompt,\n",
        ")\n",
        "\n",
        "display(Markdown(response.text))"
      ]
    },
    {
      "cell_type": "markdown",
      "metadata": {
        "id": "4080cc17f5d9"
      },
      "source": [
        "### **Example 2**: Geometry problem (with image)\n",
        "\n",
        "This geometry problem requires complex reasoning and is also using Gemini multimodal capabilities to read the image."
      ]
    },
    {
      "cell_type": "code",
      "execution_count": null,
      "metadata": {
        "id": "8bd02dff35d0"
      },
      "outputs": [],
      "source": [
        "image_file_path = \"generativeai-downloads/images/geometry.png\"\n",
        "image_file_uri = f\"gs://{image_file_path}\"\n",
        "image_file_url = f\"https://storage.googleapis.com/{image_file_path}\"\n",
        "\n",
        "display(Image(url=image_file_url, width=400))"
      ]
    },
    {
      "cell_type": "code",
      "execution_count": null,
      "metadata": {
        "id": "80f2vzWxC9no"
      },
      "outputs": [],
      "source": [
        "response = client.models.generate_content(\n",
        "    model=MODEL_ID,\n",
        "    contents=[\n",
        "        Part.from_uri(image_file_uri, mime_type=\"image/png\"),\n",
        "        \"What's the area of the overlapping region?\",\n",
        "    ],\n",
        "    config=config,\n",
        ")\n",
        "\n",
        "print_thoughts(response)"
      ]
    },
    {
      "cell_type": "markdown",
      "metadata": {
        "id": "9_WlcJZjC9np"
      },
      "source": [
        "### **Example 3**: Mathematical brain teaser\n"
      ]
    },
    {
      "cell_type": "code",
      "execution_count": null,
      "metadata": {
        "id": "e5411dfb9e8b"
      },
      "outputs": [],
      "source": [
        "prompt = \"\"\"Add mathematical operations (additions, subtractions, multiplications)\n",
        "to get 746 using these numbers only once: 8, 7, 50, and 4\n",
        "\"\"\"\n",
        "\n",
        "response = client.models.generate_content(\n",
        "    model=MODEL_ID,\n",
        "    contents=prompt,\n",
        "    config=config,\n",
        ")\n",
        "\n",
        "print_thoughts(response)"
      ]
    },
    {
      "cell_type": "markdown",
      "metadata": {
        "id": "655ba02d9bda"
      },
      "source": [
        "### **Example 4**: Generating question for a specific level of knowledge\n",
        "\n",
        "This time, the questions require a few types of knowledge, including what is relevant to the [Physics C: Mechanics exam](https://apcentral.collegeboard.org/courses/ap-physics-c-mechanics/exam). The questions generated are not the interesting part, but the reasoning to come up with them shows they are not just randomly generated."
      ]
    },
    {
      "cell_type": "code",
      "execution_count": null,
      "metadata": {
        "id": "MU3FAUqcC9np"
      },
      "outputs": [],
      "source": [
        "response = client.models.generate_content(\n",
        "    model=MODEL_ID,\n",
        "    contents=\"Give me a practice question I can use for the AP Physics C: Mechanics exam?\",\n",
        "    config=config,\n",
        ")\n",
        "\n",
        "print_thoughts(response)"
      ]
    },
    {
      "cell_type": "markdown",
      "metadata": {
        "id": "FnDwUxI-fRWo"
      },
      "source": [
        "### **Example 5**: Statistics\n",
        "\n",
        "Here's a new mathematical problem. Once again, what's interesting is not the answer (as you might know it already) but how the model is coming up with it."
      ]
    },
    {
      "cell_type": "code",
      "execution_count": null,
      "metadata": {
        "id": "hQozYPZzgXRE"
      },
      "outputs": [],
      "source": [
        "response = client.models.generate_content(\n",
        "    model=MODEL_ID,\n",
        "    contents=\"You repeatedly flipped a coin until you either flip three heads, or heads tails heads. Which is more likely to happen first?\",\n",
        "    config=config,\n",
        ")\n",
        "\n",
        "print_thoughts(response)"
      ]
    },
    {
      "cell_type": "markdown",
      "metadata": {
        "id": "m9RG4DRCm1vY"
      },
      "source": [
        "### **Example 6**:  Brain teaser with a twist\n",
        "\n",
        "Here's another brain teaser based on an image, this time it looks like a mathematical problem, but it cannot actually be solved mathematically. If you check the thoughts of the model you'll see that it will realize it and come up with an out-of-the-box solution."
      ]
    },
    {
      "cell_type": "code",
      "execution_count": null,
      "metadata": {
        "id": "b26b9ebd2d5d"
      },
      "outputs": [],
      "source": [
        "image_file_path = \"generativeai-downloads/images/pool.png\"\n",
        "image_file_uri = f\"gs://{image_file_path}\"\n",
        "image_file_url = f\"https://storage.googleapis.com/{image_file_path}\"\n",
        "\n",
        "display(Image(url=image_file_url, width=400))"
      ]
    },
    {
      "cell_type": "code",
      "execution_count": null,
      "metadata": {
        "id": "A0_4uP5Wm6yx"
      },
      "outputs": [],
      "source": [
        "response = client.models.generate_content(\n",
        "    model=MODEL_ID,\n",
        "    contents=[\n",
        "        Part.from_uri(image_file_uri, mime_type=\"image/png\"),\n",
        "        \"How do I use three of the pool balls to sum up to 30?\",\n",
        "    ],\n",
        "    config=config,\n",
        ")\n",
        "\n",
        "print_thoughts(response)"
      ]
    },
    {
      "cell_type": "markdown",
      "metadata": {
        "id": "lND4jB6MrsSk"
      },
      "source": [
        "## Next Steps\n",
        "\n",
        "- Explore the Vertex AI [Cookbook](https://cloud.google.com/vertex-ai/generative-ai/docs/cookbook) for a curated, searchable gallery of notebooks for Generative AI.\n",
        "- Explore other notebooks and samples in the [Google Cloud Generative AI repository](https://github.com/GoogleCloudPlatform/generative-ai)."
      ]
    }
  ],
  "metadata": {
    "colab": {
      "name": "intro_gemini_2_0_flash_thinking_mode.ipynb",
      "toc_visible": true
    },
    "kernelspec": {
      "display_name": "PatientSummary",
      "language": "python",
      "name": "patientsummary"
    },
    "language_info": {
      "codemirror_mode": {
        "name": "ipython",
        "version": 3
      },
      "file_extension": ".py",
      "mimetype": "text/x-python",
      "name": "python",
      "nbconvert_exporter": "python",
      "pygments_lexer": "ipython3",
      "version": "3.13.2"
    }
  },
  "nbformat": 4,
  "nbformat_minor": 0
}
